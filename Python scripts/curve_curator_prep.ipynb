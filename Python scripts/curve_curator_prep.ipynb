{
 "cells": [
  {
   "attachments": {},
   "cell_type": "markdown",
   "metadata": {},
   "source": [
    "## Prepare Input Data for Curve Curator"
   ]
  },
  {
   "attachments": {},
   "cell_type": "markdown",
   "metadata": {},
   "source": [
    "This script will create the data and corresponding .toml files needed to run curve curator. It will create one pair of files for each drug which will contain the cell viability data for every cell line tested with this drug.<br>\n",
    "All created files will be stored in a directory (out_dir).<br>\n",
    "Curve curator can then be called (for a single drug) like this:\n",
    "```sh\n",
    "(curve_curator)$ python ./CurveCurator <path_to_toml_file>\n",
    "```"
   ]
  },
  {
   "cell_type": "code",
   "execution_count": 1,
   "metadata": {},
   "outputs": [],
   "source": [
    "import numpy as np\n",
    "import pandas as pd\n",
    "import os"
   ]
  },
  {
   "attachments": {},
   "cell_type": "markdown",
   "metadata": {},
   "source": [
    "The input file (dataset_file) should contain a whole drug response data set (all drugs and cell lines) in the following format:<br>\n",
    "| cell_line | drug         | dose | response |\n",
    "|-----------|--------------|------|----------|\n",
    "| PC-14     | Camptothecin | 0.1  | 0.519    |\n",
    "| PC-14     | Camptothecin | 0.03 | 0.739    |\n",
    "| 2004      | Lapatinib    | 0.0  | 1.0      |\n",
    "| ...       | ...          | ...  | ...      |\n",
    "\n",
    "The dose can be in any unit, e.g. uM, but this has to be specified in the toml parameters (dose_unit and dose_scale).<br>\n",
    "For each drug-cell line pair, there has to be a row with dose 0 which is going to be used by curve curator to compute ratios.<br>\n",
    "The response should be percent viability values, so the response for dose 0 should always be 1.0."
   ]
  },
  {
   "cell_type": "code",
   "execution_count": 9,
   "metadata": {},
   "outputs": [],
   "source": [
    "dataset_name = \"ctrp2_mapped_nCC\"\n",
    "dataset_file = \"../processed_data/ctrp2_normalized_mapped.tsv\"\n",
    "\n",
    "# path to directory where data and .toml files are saved\n",
    "out_dir = \"../ctrp2_mapped_nCC/\"\n",
    "\n",
    "# if True, the last data point is removed\n",
    "wo_last = False\n",
    "\n",
    "# parameters for toml file\n",
    "treatment_time = \"72 h\"\n",
    "dose_unit = \"uM\"\n",
    "dose_scale = \"1e-06\"\n",
    "available_cores = 5\n",
    "optimized_dofs = \"true\"\n",
    "imputation = \"false\"\n",
    "normalization = \"false\"\n",
    "fit_weights_delta = \"1.0\"\n",
    "alpha = \"0.05\"\n",
    "fc_lim = \"0.45\""
   ]
  },
  {
   "cell_type": "code",
   "execution_count": 10,
   "metadata": {},
   "outputs": [],
   "source": [
    "# check if directories for curves, mad and dashboards already exist (else, create them)\n",
    "if not os.path.isdir(f\"{out_dir}curves/\"):\n",
    "    os.makedirs(f\"{out_dir}curves/\")\n",
    "if not os.path.isdir(f\"{out_dir}mad/\"):\n",
    "    os.makedirs(f\"{out_dir}mad/\")\n",
    "if not os.path.isdir(f\"{out_dir}dashboards/\"):\n",
    "    os.makedirs(f\"{out_dir}dashboards/\")"
   ]
  },
  {
   "cell_type": "code",
   "execution_count": 11,
   "metadata": {},
   "outputs": [
    {
     "data": {
      "text/html": [
       "<div>\n",
       "<style scoped>\n",
       "    .dataframe tbody tr th:only-of-type {\n",
       "        vertical-align: middle;\n",
       "    }\n",
       "\n",
       "    .dataframe tbody tr th {\n",
       "        vertical-align: top;\n",
       "    }\n",
       "\n",
       "    .dataframe thead th {\n",
       "        text-align: right;\n",
       "    }\n",
       "</style>\n",
       "<table border=\"1\" class=\"dataframe\">\n",
       "  <thead>\n",
       "    <tr style=\"text-align: right;\">\n",
       "      <th></th>\n",
       "      <th>cell_line</th>\n",
       "      <th>drug</th>\n",
       "      <th>dose</th>\n",
       "      <th>response</th>\n",
       "    </tr>\n",
       "  </thead>\n",
       "  <tbody>\n",
       "    <tr>\n",
       "      <th>0</th>\n",
       "      <td>CVCL_U759</td>\n",
       "      <td>16betabromoandrosterone</td>\n",
       "      <td>0.0011</td>\n",
       "      <td>0.926588</td>\n",
       "    </tr>\n",
       "    <tr>\n",
       "      <th>1</th>\n",
       "      <td>CVCL_U759</td>\n",
       "      <td>16betabromoandrosterone</td>\n",
       "      <td>0.0011</td>\n",
       "      <td>0.933033</td>\n",
       "    </tr>\n",
       "    <tr>\n",
       "      <th>2</th>\n",
       "      <td>CVCL_U759</td>\n",
       "      <td>16betabromoandrosterone</td>\n",
       "      <td>0.0023</td>\n",
       "      <td>0.659754</td>\n",
       "    </tr>\n",
       "    <tr>\n",
       "      <th>3</th>\n",
       "      <td>CVCL_U759</td>\n",
       "      <td>16betabromoandrosterone</td>\n",
       "      <td>0.0023</td>\n",
       "      <td>0.926588</td>\n",
       "    </tr>\n",
       "    <tr>\n",
       "      <th>4</th>\n",
       "      <td>CVCL_U759</td>\n",
       "      <td>16betabromoandrosterone</td>\n",
       "      <td>0.0045</td>\n",
       "      <td>0.939523</td>\n",
       "    </tr>\n",
       "  </tbody>\n",
       "</table>\n",
       "</div>"
      ],
      "text/plain": [
       "   cell_line                     drug    dose  response\n",
       "0  CVCL_U759  16betabromoandrosterone  0.0011  0.926588\n",
       "1  CVCL_U759  16betabromoandrosterone  0.0011  0.933033\n",
       "2  CVCL_U759  16betabromoandrosterone  0.0023  0.659754\n",
       "3  CVCL_U759  16betabromoandrosterone  0.0023  0.926588\n",
       "4  CVCL_U759  16betabromoandrosterone  0.0045  0.939523"
      ]
     },
     "execution_count": 11,
     "metadata": {},
     "output_type": "execute_result"
    }
   ],
   "source": [
    "df = pd.read_table(dataset_file)\n",
    "df.head()"
   ]
  },
  {
   "cell_type": "code",
   "execution_count": 12,
   "metadata": {},
   "outputs": [],
   "source": [
    "# get all drug names and create a version which can be used in a filename\n",
    "drugs = np.unique(df[\"drug\"])\n",
    "drugs_file = np.char.replace(np.array(drugs, dtype=\"str\"), \"/\", \"_\")\n",
    "drugs_file = np.char.replace(drugs_file, \",\", \"_\")\n",
    "drugs_file = np.char.replace(drugs_file, \" \", \"_\")\n",
    "drugs_file = np.char.replace(drugs_file, \":\", \"_\")"
   ]
  },
  {
   "cell_type": "code",
   "execution_count": 13,
   "metadata": {},
   "outputs": [],
   "source": [
    "def create_toml_file(drug, drug_file, concentrations):\n",
    "    experiments = [i for i in range(1, len(concentrations)+1)]\n",
    "    max_missing = len(concentrations)-2\n",
    "    doses = \"[\"+\", \".join(concentrations.astype(str))+\"]\"\n",
    "    content = f\"['Meta']\\nid = '{dataset_name}_{drug}'\\ndescription = '{dataset_name}, {drug}'\\ncondition = '{drug}'\\ntreatment_time = '{treatment_time}'\\n\\n\"\n",
    "    content += f\"['Experiment']\\nexperiments = {experiments}\\ndoses = {doses}\\ndose_scale = '{dose_scale}'\\ndose_unit = '{dose_unit}'\\ncontrol_experiment = 1\\n\"\n",
    "    content += f\"measurement_type = 'OTHER'\\ndata_type = 'OTHER'\\nsearch_engine = 'OTHER'\\nsearch_engine_version = '0'\\n\\n\"\n",
    "    content += f\"['Paths']\\ninput_file = './{drug_file}.txt'\\ncurves_file = './curves/{drug_file}_curves.txt'\\nnormalization_file = './norm.txt'\\n\"\n",
    "    content += f\"mad_file = './mad/{drug_file}_mad.txt'\\ndashboard = './dashboards/{drug_file}_dashboard.html'\\n\\n\"\n",
    "    content += f\"['Processing']\\navailable_cores = {available_cores}\\nmax_missing = {max_missing}\\nimputation = {imputation}\\nnormalization = {normalization}\\n\\n\"\n",
    "    content += f\"['F Statistic']\\noptimized_dofs = {optimized_dofs}\\nalpha = {alpha}\\nfc_lim = {fc_lim}\\n\"\n",
    "\n",
    "    return content"
   ]
  },
  {
   "cell_type": "code",
   "execution_count": 14,
   "metadata": {},
   "outputs": [],
   "source": [
    "def create_data(drug, outfile=None):\n",
    "    data = df[df[\"drug\"]==drug]\n",
    "    if wo_last:\n",
    "        # remove last measurement point for each cell line\n",
    "        idx = data.groupby('cell_line')['dose'].transform(max) == data['dose']\n",
    "        #data = data.drop(indices, axis=0)\n",
    "        data = data[~idx]\n",
    "    doses = np.sort(np.unique(data[\"dose\"]))\n",
    "    if outfile != None:\n",
    "        # create and save drug raw data file\n",
    "        data = data.drop(\"drug\", axis=1)\n",
    "        # aggregate duplicates with mean\n",
    "        data = data.groupby(['cell_line', 'dose']).mean()\n",
    "        data = data.reset_index()\n",
    "        data = pd.pivot(data, index=\"cell_line\", columns=\"dose\", values=\"response\")\n",
    "        data = data.reindex(sorted(data.columns), axis=1)\n",
    "        data = data.reset_index()\n",
    "        data.columns = [\"Name\"] + [f\"Raw {i}\" for i in range(1,len(doses)+1)]\n",
    "        data.to_csv(outfile, index=False, sep=\"\\t\")\n",
    "    return(doses)"
   ]
  },
  {
   "cell_type": "code",
   "execution_count": 15,
   "metadata": {},
   "outputs": [],
   "source": [
    "# create data + toml file for each drug\n",
    "for i in range(0, len(drugs)):\n",
    "    drug_data_file = f\"{out_dir}{drugs_file[i]}.txt\"\n",
    "    toml_file = f\"{out_dir}{drugs_file[i]}.toml\"\n",
    "    concentrations = create_data(drugs[i], drug_data_file)\n",
    "    toml = create_toml_file(drugs[i], drugs_file[i], concentrations)\n",
    "    with open(toml_file, \"w\") as file:\n",
    "        file.write(toml)"
   ]
  }
 ],
 "metadata": {
  "kernelspec": {
   "display_name": "Python 3",
   "language": "python",
   "name": "python3"
  },
  "language_info": {
   "codemirror_mode": {
    "name": "ipython",
    "version": 3
   },
   "file_extension": ".py",
   "mimetype": "text/x-python",
   "name": "python",
   "nbconvert_exporter": "python",
   "pygments_lexer": "ipython3",
   "version": "3.11.5"
  },
  "orig_nbformat": 4
 },
 "nbformat": 4,
 "nbformat_minor": 2
}
